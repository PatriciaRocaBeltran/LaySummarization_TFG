{
 "cells": [
  {
   "cell_type": "markdown",
   "id": "9448e9fa-314f-4606-a09f-651f6551c5bf",
   "metadata": {},
   "source": [
    "# Import libraries"
   ]
  },
  {
   "cell_type": "code",
   "execution_count": null,
   "id": "89c8aff0-4a33-4025-ba71-85e485a79936",
   "metadata": {},
   "outputs": [],
   "source": [
    "import os\n",
    "import pandas as pd\n",
    "import spacy\n",
    "import pytextrank\n",
    "import nltk\n",
    "# nltk.download('punkt')  --> This only needs to be done once\n",
    "import re\n",
    "\n",
    "from transformers import AutoModelForSeq2SeqLM, AutoTokenizer, pipeline\n",
    "from datasets import load_dataset"
   ]
  },
  {
   "cell_type": "code",
   "execution_count": null,
   "id": "e43c7fd5-6c0b-464b-888c-e3e09b94cec3",
   "metadata": {},
   "outputs": [],
   "source": [
    "from datasets import load_dataset"
   ]
  },
  {
   "cell_type": "code",
   "execution_count": null,
   "id": "20a724aa-349d-4559-9288-e760b64245f5",
   "metadata": {},
   "outputs": [],
   "source": [
    "import utils\n",
    "from utils import extract_abstract, select_top_sentences, remove_references, generate_reference_file, select_top_sentences_by_sections"
   ]
  },
  {
   "cell_type": "markdown",
   "id": "a2a15816-fe96-4bbc-8fa1-adb046af1fcb",
   "metadata": {},
   "source": [
    "# Reading test dataset"
   ]
  },
  {
   "cell_type": "code",
   "execution_count": null,
   "id": "853a2806-d297-48d0-a7d6-bd786ebf3b81",
   "metadata": {},
   "outputs": [],
   "source": [
    "eLife_test = load_dataset(\"json\", data_files={'test': './data/test_eLife_docs.jsonl'})"
   ]
  },
  {
   "cell_type": "code",
   "execution_count": null,
   "id": "77745558-d550-4897-a7a4-c8b48423853c",
   "metadata": {},
   "outputs": [],
   "source": [
    "eLife_test"
   ]
  },
  {
   "cell_type": "code",
   "execution_count": null,
   "id": "be4e41b4-1e6f-4a7e-a40e-97b32f7a4477",
   "metadata": {},
   "outputs": [],
   "source": [
    "dataset = load_dataset(\"json\", data_files={'train': './data/eLife_train.jsonl', 'validation': './data/eLife_val.jsonl'})"
   ]
  },
  {
   "cell_type": "markdown",
   "id": "a6f0011b-d48b-4d19-abb0-2f375c23bbbd",
   "metadata": {},
   "source": [
    "# Preprocessing"
   ]
  },
  {
   "cell_type": "markdown",
   "id": "2feeecae-3a87-4dfe-96f7-7be43e788149",
   "metadata": {},
   "source": [
    "Preprocess the text as needed to generate lay summaries from the test dataset, the preprocessing must be the same as the one used for training"
   ]
  },
  {
   "cell_type": "code",
   "execution_count": null,
   "id": "7520873c-d02b-431d-a878-3ca569e78b8e",
   "metadata": {},
   "outputs": [],
   "source": [
    "# Loading spaCy small english model \n",
    "nlp = spacy.load(\"en_core_web_sm\")\n",
    "\n",
    "# Add PyTextRank to the spaCy pipeline\n",
    "nlp.add_pipe(\"textrank\", last=True)\n",
    "\n",
    "# Load the tokenizer\n",
    "tokenizer = AutoTokenizer.from_pretrained(\"facebook/bart-base\")"
   ]
  },
  {
   "cell_type": "code",
   "execution_count": null,
   "id": "7bfaae82-11d6-499c-99cb-67fc8d98445d",
   "metadata": {},
   "outputs": [],
   "source": [
    "#preprocessed_test = eLife_test.map(extract_abstract)"
   ]
  },
  {
   "cell_type": "code",
   "execution_count": null,
   "id": "d608d8f5-d5d2-40b3-be40-4f05e6c25b6d",
   "metadata": {},
   "outputs": [],
   "source": [
    "#preprocessed_test = preprocessed_test.map(lambda x: select_top_sentences(x, column='article', nlp=nlp, tokenizer=tokenizer))"
   ]
  },
  {
   "cell_type": "code",
   "execution_count": null,
   "id": "9008a8b5-6fa4-4696-8866-4a5f958c425a",
   "metadata": {},
   "outputs": [],
   "source": [
    "#preprocessed_test = preprocessed_test.map(lambda x: select_top_sentences_by_sections(x, column='article', nlp=nlp, tokenizer=tokenizer))"
   ]
  },
  {
   "cell_type": "code",
   "execution_count": null,
   "id": "027f6de1-7ed8-489c-ac40-c9602d46deb2",
   "metadata": {},
   "outputs": [],
   "source": [
    "# preprocessed_test = eLife_test.map(remove_references)"
   ]
  },
  {
   "cell_type": "code",
   "execution_count": null,
   "id": "0f77e246-4fa5-43f6-b362-2cb56ed024e5",
   "metadata": {},
   "outputs": [],
   "source": [
    "# preprocessed_test = preprocessed_test.map(lambda x: select_top_sentences(x, column='article_norefs', nlp=nlp, tokenizer=tokenizer))"
   ]
  },
  {
   "cell_type": "code",
   "execution_count": null,
   "id": "56d73d20-f8e8-4c31-9649-407f130b0c55",
   "metadata": {},
   "outputs": [],
   "source": [
    "# preprocessed_test = preprocessed_test.map(lambda x: select_top_sentences_by_sections(x, column='article_norefs', nlp=nlp, tokenizer=tokenizer))"
   ]
  },
  {
   "cell_type": "code",
   "execution_count": null,
   "id": "f97a1702-187b-4d74-bb6b-0dea7999027a",
   "metadata": {},
   "outputs": [],
   "source": [
    "preprocessed_test"
   ]
  },
  {
   "cell_type": "markdown",
   "id": "6079eb28-7530-40dd-a006-8b47c3ec5b87",
   "metadata": {},
   "source": [
    "# Generating predictions"
   ]
  },
  {
   "cell_type": "code",
   "execution_count": null,
   "id": "8525765a-dade-483b-b916-fd27675db8bb",
   "metadata": {},
   "outputs": [],
   "source": [
    "# Specify the path to the model checkpoint wanted for generation\n",
    "model_path = \"\""
   ]
  },
  {
   "cell_type": "code",
   "execution_count": null,
   "id": "eb03c217-1656-43ae-8948-2d1638790fdd",
   "metadata": {},
   "outputs": [],
   "source": [
    "output_dir = \"./data/predictions/\"\n",
    "\n",
    "# Specify the ath to the output file where to save the summaries\n",
    "output_file = os.path.join(output_dir, \".txt\")"
   ]
  },
  {
   "cell_type": "code",
   "execution_count": null,
   "id": "562ab234-8dc5-487c-a1e4-5d9fd4d23aef",
   "metadata": {},
   "outputs": [],
   "source": [
    "eLife_test = pd.DataFrame(preprocessed_test['test'])"
   ]
  },
  {
   "cell_type": "code",
   "execution_count": null,
   "id": "a32265c7-51c4-47bd-be92-01dc6c6f5455",
   "metadata": {},
   "outputs": [],
   "source": [
    "# Specify the column containing the preprocessed text, for example: article_norefs\n",
    "eLife_test = eLife_test[['']]\n",
    "eLife_test"
   ]
  },
  {
   "cell_type": "code",
   "execution_count": null,
   "id": "5be62cd7-5919-4fea-bfb0-81d3f95b212c",
   "metadata": {},
   "outputs": [],
   "source": [
    "# Specify the column containing the preprocessed text, for example: article_norefs\n",
    "generate_reference_file(eLife_test, model_path=model_path, column='', output_file=output_file)"
   ]
  },
  {
   "cell_type": "code",
   "execution_count": null,
   "id": "c36b2c4e-7a20-4343-b30a-616749a1eb39",
   "metadata": {},
   "outputs": [],
   "source": [
    "print(\"finished\")"
   ]
  },
  {
   "cell_type": "markdown",
   "id": "edd74581-7b2e-4017-a5ca-0b37b259136f",
   "metadata": {},
   "source": [
    "# Checks"
   ]
  },
  {
   "cell_type": "code",
   "execution_count": null,
   "id": "84f38a9f-f8a4-4838-9a5d-e3815b8ae315",
   "metadata": {},
   "outputs": [],
   "source": [
    "def read_file_lines(path):\n",
    "  with open(path, 'r') as f:\n",
    "    lines = f.readlines()\n",
    "\n",
    "  if path.endswith('.jsonl'):\n",
    "    lines = [json.loads(line) for line in lines]\n",
    "\n",
    "  return lines"
   ]
  },
  {
   "cell_type": "code",
   "execution_count": null,
   "id": "1e08241d-ef52-4211-a1db-c26cc1bc5ac5",
   "metadata": {},
   "outputs": [],
   "source": [
    "generated_summs = read_file_lines(output_file)"
   ]
  },
  {
   "cell_type": "code",
   "execution_count": null,
   "id": "df9a651d-b75a-40d3-87df-813970bb1cf5",
   "metadata": {},
   "outputs": [],
   "source": [
    "generated_summs[0]"
   ]
  }
 ],
 "metadata": {
  "kernelspec": {
   "display_name": "Python 3 (ipykernel)",
   "language": "python",
   "name": "python3"
  },
  "language_info": {
   "codemirror_mode": {
    "name": "ipython",
    "version": 3
   },
   "file_extension": ".py",
   "mimetype": "text/x-python",
   "name": "python",
   "nbconvert_exporter": "python",
   "pygments_lexer": "ipython3",
   "version": "3.9.19"
  }
 },
 "nbformat": 4,
 "nbformat_minor": 5
}
