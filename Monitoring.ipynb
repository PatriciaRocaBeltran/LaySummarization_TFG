{
 "cells": [
  {
   "cell_type": "code",
   "execution_count": 8,
   "id": "2ec3df21-6fc6-4d0a-ae61-1b392e633f0a",
   "metadata": {},
   "outputs": [
    {
     "name": "stdout",
     "output_type": "stream",
     "text": [
      "Requirement already satisfied: psutil in /gpfs/home/proca/.conda/envs/eval_env/lib/python3.9/site-packages (5.9.0)\n"
     ]
    }
   ],
   "source": [
    "! pip install psutil"
   ]
  },
  {
   "cell_type": "code",
   "execution_count": null,
   "id": "be33af93-fb1c-4c08-9647-eb7a01953ae2",
   "metadata": {},
   "outputs": [],
   "source": [
    "! pip install GPUtil"
   ]
  },
  {
   "cell_type": "code",
   "execution_count": 1,
   "id": "5539ccdd-af48-4ce3-aa26-3d03a1e34655",
   "metadata": {},
   "outputs": [],
   "source": [
    "import GPUtil\n",
    "import psutil\n",
    "import time"
   ]
  },
  {
   "cell_type": "code",
   "execution_count": 4,
   "id": "a78e4bce-1c56-4592-a54c-00551b4bf52a",
   "metadata": {},
   "outputs": [],
   "source": [
    "def monitor_resource_usage(interval=1800):\n",
    "    while True:\n",
    "        # CPU \n",
    "        cpu_usage = psutil.cpu_percent(interval=1)\n",
    "        memory_info = psutil.virtual_memory()\n",
    "        print(f\"CPU Usage: {cpu_usage}%\")\n",
    "        print(f\"Memory Usage: {memory_info.percent}%\")\n",
    "        \n",
    "        gpu = GPUtil.getGPUs()[0]\n",
    "        print(f\"GPU ID: {gpu.id}, GPU Load: {gpu.load*100:.2f}%, \"f\"GPU Memory Usage: {gpu.memoryUsed}MB/{gpu.memoryTotal}MB\")\n",
    "        \n",
    "        # Since psutil.cpu_percent already waits for 1 second\n",
    "        time.sleep(interval - 1)"
   ]
  },
  {
   "cell_type": "code",
   "execution_count": null,
   "id": "11c5c05c-674c-42f0-a662-63004a27f316",
   "metadata": {},
   "outputs": [
    {
     "name": "stdout",
     "output_type": "stream",
     "text": [
      "CPU Usage: 18.9%\n",
      "Memory Usage: 30.6%\n",
      "GPU ID: 0, GPU Load: 100.00%, GPU Memory Usage: 8049.0MB/15360.0MB\n",
      "CPU Usage: 18.8%\n",
      "Memory Usage: 45.4%\n",
      "GPU ID: 0, GPU Load: 100.00%, GPU Memory Usage: 8049.0MB/15360.0MB\n",
      "CPU Usage: 19.1%\n",
      "Memory Usage: 26.8%\n",
      "GPU ID: 0, GPU Load: 100.00%, GPU Memory Usage: 8049.0MB/15360.0MB\n"
     ]
    }
   ],
   "source": [
    "# Monitoring in real-time\n",
    "monitor_resource_usage()"
   ]
  },
  {
   "cell_type": "code",
   "execution_count": null,
   "id": "594b06ed-5143-4345-a805-6f7154161065",
   "metadata": {},
   "outputs": [],
   "source": [
    "# Stop the execution of the function once we the processes have finished"
   ]
  }
 ],
 "metadata": {
  "kernelspec": {
   "display_name": "Python 3 (ipykernel)",
   "language": "python",
   "name": "python3"
  },
  "language_info": {
   "codemirror_mode": {
    "name": "ipython",
    "version": 3
   },
   "file_extension": ".py",
   "mimetype": "text/x-python",
   "name": "python",
   "nbconvert_exporter": "python",
   "pygments_lexer": "ipython3",
   "version": "3.9.19"
  }
 },
 "nbformat": 4,
 "nbformat_minor": 5
}
