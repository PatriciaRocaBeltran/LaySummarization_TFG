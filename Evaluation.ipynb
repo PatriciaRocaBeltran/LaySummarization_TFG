{
 "cells": [
  {
   "cell_type": "code",
   "execution_count": null,
   "id": "04a0fe25-5b5f-4e7c-9665-00fa4545ba2d",
   "metadata": {},
   "outputs": [],
   "source": [
    "import sys\n",
    "sys.path.append('BioLaySumm2024-evaluation_scripts')\n",
    "import evaluate as e\n",
    "import time"
   ]
  },
  {
   "cell_type": "code",
   "execution_count": null,
   "id": "b748eaa1-146d-404c-b373-061fef13f1dd",
   "metadata": {},
   "outputs": [],
   "source": [
    "import warnings\n",
    "warnings.filterwarnings(\"ignore\")"
   ]
  },
  {
   "cell_type": "code",
   "execution_count": null,
   "id": "bfb4294b-b552-486d-b3db-52578b741ef1",
   "metadata": {},
   "outputs": [],
   "source": [
    "# Define paths\n",
    "pred_path = '.txt' # Path to the generated predictions\n",
    "ref_path = '.jsonl' # Path to the reference documents\n",
    "gold_path = '.txt' # Path to the real lay summaries\n",
    "output_dir = './data/scores' # Path to the output directory desired for storing the scores"
   ]
  },
  {
   "cell_type": "code",
   "execution_count": null,
   "id": "1c7c9f27-a085-405c-bc09-7f4d12315cd8",
   "metadata": {},
   "outputs": [],
   "source": [
    "start_time = time.time()\n",
    "\n",
    "# Call the function provided by the organization\n",
    "scores_dict = e.evaluate(pred_path, ref_path, gold_path)\n",
    "\n",
    "end_time = time.time()\n",
    "elapsed_time = end_time - start_time\n",
    "\n",
    "print(f\"Elapsed time: {elapsed_time} seconds\")"
   ]
  },
  {
   "cell_type": "code",
   "execution_count": null,
   "id": "f45837a0-e0f1-4009-bbfe-1dcf47366c36",
   "metadata": {},
   "outputs": [],
   "source": [
    "scores_dict"
   ]
  },
  {
   "cell_type": "code",
   "execution_count": null,
   "id": "cc0e3d22-f4cc-4701-a6e1-314a6f255faa",
   "metadata": {},
   "outputs": [],
   "source": [
    "e.write_scores(scores_dict, output_filepath='.txt')"
   ]
  },
  {
   "cell_type": "markdown",
   "id": "2b61acdd-ecaf-42c5-bcc5-1643b476cb79",
   "metadata": {},
   "source": [
    "## Extract the predictions that obtained the best and worst ROUGE-2 score"
   ]
  },
  {
   "cell_type": "code",
   "execution_count": null,
   "id": "2a988c28-2cd1-4d75-b495-3125b5362667",
   "metadata": {},
   "outputs": [],
   "source": [
    "refs_dicts = e.read_file_lines(ref_path)\n",
    "docs = [d['article'] for d in refs_dicts]\n",
    "refs = e.read_file_lines(gold_path)\n",
    "preds = e.read_file_lines(pred_path)"
   ]
  },
  {
   "cell_type": "code",
   "execution_count": null,
   "id": "b0740222-474b-46d4-b735-4c888193ea39",
   "metadata": {
    "scrolled": true
   },
   "outputs": [],
   "source": [
    "from rouge_score import rouge_scorer\n",
    "\n",
    "scorer = rouge_scorer.RougeScorer(['rouge1', 'rouge2', 'rougeLsum'], use_stemmer=True, split_summaries=True)\n",
    "\n",
    "scores = [scorer.score(p, refs[i]) for i, p in enumerate(preds)]\n",
    "rouge2_fmeasures = [score_dict['rouge2'].fmeasure for score_dict in scores]\n",
    "\n",
    "# Find indices of the best and worst ROUGE-2 scores\n",
    "best_rouge2_index = rouge2_fmeasures.index(max(rouge2_fmeasures))\n",
    "worst_rouge2_index = rouge2_fmeasures.index(min(rouge2_fmeasures))\n",
    "\n",
    "best_summary = preds[best_rouge2_index]\n",
    "worst_summary = preds[worst_rouge2_index]\n",
    "\n",
    "print(\"Best summary:\", best_summary)\n",
    "print(\"Worst summary:\", worst_summary)"
   ]
  },
  {
   "cell_type": "code",
   "execution_count": null,
   "id": "4f7328f2-3c54-4d11-964a-3229684323b9",
   "metadata": {},
   "outputs": [],
   "source": [
    "max(rouge2_fmeasures), min(rouge2_fmeasures)"
   ]
  },
  {
   "cell_type": "code",
   "execution_count": null,
   "id": "df99ee8b-81ba-4375-a106-4140613b57c8",
   "metadata": {},
   "outputs": [],
   "source": [
    "best_rouge2_index, worst_rouge2_index"
   ]
  },
  {
   "cell_type": "code",
   "execution_count": null,
   "id": "f142afb7-0a74-43d6-9860-072970cb22d7",
   "metadata": {},
   "outputs": [],
   "source": [
    "refs_dicts[72]"
   ]
  },
  {
   "cell_type": "code",
   "execution_count": null,
   "id": "97fb7ec2-0358-4372-8e61-d11d6d2bfd78",
   "metadata": {},
   "outputs": [],
   "source": [
    "refs_dicts[105]"
   ]
  },
  {
   "cell_type": "code",
   "execution_count": null,
   "id": "e3b8396f-9574-43f0-bcbe-4caa1df6a9ca",
   "metadata": {},
   "outputs": [],
   "source": []
  }
 ],
 "metadata": {
  "kernelspec": {
   "display_name": "Python 3 (ipykernel)",
   "language": "python",
   "name": "python3"
  },
  "language_info": {
   "codemirror_mode": {
    "name": "ipython",
    "version": 3
   },
   "file_extension": ".py",
   "mimetype": "text/x-python",
   "name": "python",
   "nbconvert_exporter": "python",
   "pygments_lexer": "ipython3",
   "version": "3.9.19"
  }
 },
 "nbformat": 4,
 "nbformat_minor": 5
}
